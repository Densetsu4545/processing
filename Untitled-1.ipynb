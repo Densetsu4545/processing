{
 "cells": [
  {
   "cell_type": "code",
   "execution_count": 59,
   "metadata": {},
   "outputs": [
    {
     "name": "stdout",
     "output_type": "stream",
     "text": [
      "Mまたはm: m\n",
      "Float 1: 105.96562\n",
      "Float 2: 267.69218\n",
      "Float 3: 90.619791\n",
      "Float 4: 255.12448\n"
     ]
    }
   ],
   "source": [
    "import re\n",
    "\n",
    "# 入力文字列\n",
    "input_string = \"m 105.96562,267.69218 90.619791,255.12448\"\n",
    "\n",
    "# 正規表現パターン\n",
    "M_pattern = re.compile(r'[Mm]')\n",
    "float_pattern = re.compile(r'[-+]?\\d*\\.\\d+|\\d+')\n",
    "\n",
    "# パターンにマッチする部分を取得\n",
    "M_match = M_pattern.match(input_string)\n",
    "float_matches = float_pattern.findall(input_string)\n",
    "\n",
    "line = [float(match) for match in float_matches]\n",
    "\n",
    "if M_match:\n",
    "    # Mまたはmと4つの浮動小数点数を取得\n",
    "    m_value = M_match[0]\n",
    "    float1 = float(line[0])\n",
    "    float2 = float(line[1])\n",
    "    float3 = float(line[2])\n",
    "    float4 = float(line[3])\n",
    "\n",
    "    # 結果を表示\n",
    "    print(\"Mまたはm:\", m_value)\n",
    "    print(\"Float 1:\", float1)\n",
    "    print(\"Float 2:\", float2)\n",
    "    print(\"Float 3:\", float3)\n",
    "    print(\"Float 4:\", float4)\n",
    "else:\n",
    "    print(\"マッチしませんでした。\")\n",
    "\n"
   ]
  }
 ],
 "metadata": {
  "kernelspec": {
   "display_name": "Python 3",
   "language": "python",
   "name": "python3"
  },
  "language_info": {
   "codemirror_mode": {
    "name": "ipython",
    "version": 3
   },
   "file_extension": ".py",
   "mimetype": "text/x-python",
   "name": "python",
   "nbconvert_exporter": "python",
   "pygments_lexer": "ipython3",
   "version": "3.12.1"
  }
 },
 "nbformat": 4,
 "nbformat_minor": 2
}
